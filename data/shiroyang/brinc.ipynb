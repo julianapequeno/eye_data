{
 "cells": [
  {
   "cell_type": "code",
   "execution_count": 57,
   "metadata": {},
   "outputs": [
    {
     "data": {
      "text/html": [
       "<div>\n",
       "<style scoped>\n",
       "    .dataframe tbody tr th:only-of-type {\n",
       "        vertical-align: middle;\n",
       "    }\n",
       "\n",
       "    .dataframe tbody tr th {\n",
       "        vertical-align: top;\n",
       "    }\n",
       "\n",
       "    .dataframe thead th {\n",
       "        text-align: right;\n",
       "    }\n",
       "</style>\n",
       "<table border=\"1\" class=\"dataframe\">\n",
       "  <thead>\n",
       "    <tr style=\"text-align: right;\">\n",
       "      <th></th>\n",
       "      <th>timestamp</th>\n",
       "      <th>left_gaze_point_on_display_area</th>\n",
       "      <th>right_gaze_point_on_display_area</th>\n",
       "    </tr>\n",
       "  </thead>\n",
       "  <tbody>\n",
       "    <tr>\n",
       "      <th>2</th>\n",
       "      <td>2024-04-16 14:09:56.628036</td>\n",
       "      <td>(0.37486732006073, 0.3551793396472931)</td>\n",
       "      <td>(0.4709654748439789, 0.3332173526287079)</td>\n",
       "    </tr>\n",
       "    <tr>\n",
       "      <th>3</th>\n",
       "      <td>2024-04-16 14:09:56.645022</td>\n",
       "      <td>(0.3871181011199951, 0.34734249114990234)</td>\n",
       "      <td>(0.46238985657691956, 0.3461151421070099)</td>\n",
       "    </tr>\n",
       "    <tr>\n",
       "      <th>4</th>\n",
       "      <td>2024-04-16 14:09:56.661578</td>\n",
       "      <td>(0.382940411567688, 0.361712247133255)</td>\n",
       "      <td>(0.4645237922668457, 0.35362595319747925)</td>\n",
       "    </tr>\n",
       "    <tr>\n",
       "      <th>5</th>\n",
       "      <td>2024-04-16 14:09:56.678674</td>\n",
       "      <td>(0.382291704416275, 0.3609617054462433)</td>\n",
       "      <td>(0.46658000349998474, 0.3534100651741028)</td>\n",
       "    </tr>\n",
       "    <tr>\n",
       "      <th>6</th>\n",
       "      <td>2024-04-16 14:09:56.695093</td>\n",
       "      <td>(0.3853317201137543, 0.3518931567668915)</td>\n",
       "      <td>(0.4616974890232086, 0.3500823378562927)</td>\n",
       "    </tr>\n",
       "  </tbody>\n",
       "</table>\n",
       "</div>"
      ],
      "text/plain": [
       "                    timestamp            left_gaze_point_on_display_area  \\\n",
       "2  2024-04-16 14:09:56.628036     (0.37486732006073, 0.3551793396472931)   \n",
       "3  2024-04-16 14:09:56.645022  (0.3871181011199951, 0.34734249114990234)   \n",
       "4  2024-04-16 14:09:56.661578     (0.382940411567688, 0.361712247133255)   \n",
       "5  2024-04-16 14:09:56.678674    (0.382291704416275, 0.3609617054462433)   \n",
       "6  2024-04-16 14:09:56.695093   (0.3853317201137543, 0.3518931567668915)   \n",
       "\n",
       "            right_gaze_point_on_display_area  \n",
       "2   (0.4709654748439789, 0.3332173526287079)  \n",
       "3  (0.46238985657691956, 0.3461151421070099)  \n",
       "4  (0.4645237922668457, 0.35362595319747925)  \n",
       "5  (0.46658000349998474, 0.3534100651741028)  \n",
       "6   (0.4616974890232086, 0.3500823378562927)  "
      ]
     },
     "execution_count": 57,
     "metadata": {},
     "output_type": "execute_result"
    }
   ],
   "source": [
    "import pandas as pd\n",
    "\n",
    "dataset = pd.read_csv('../202404161409.csv')\n",
    "dataset = dataset.dropna()\n",
    "col= ['timestamp','left_gaze_point_on_display_area','right_gaze_point_on_display_area']\n",
    "dataset = dataset[col]\n",
    "dataset.head(5)"
   ]
  },
  {
   "cell_type": "code",
   "execution_count": 58,
   "metadata": {},
   "outputs": [],
   "source": [
    "class Point:\n",
    "    def __init__(self, x,y):\n",
    "        self.x = x\n",
    "        self.y = y"
   ]
  },
  {
   "cell_type": "code",
   "execution_count": null,
   "metadata": {},
   "outputs": [],
   "source": [
    "for i in dataset['left_gaze_point_on_display_area']:\n",
    "    period = i.find(',')\n",
    "    end = i.find(')')\n",
    "    x = i[1:period-1]\n",
    "    y = i[period+2:end]\n",
    "    print(f\"{x} & {y}\")\n",
    "    pt = Point(float(x),float(y))\n",
    "    dataset['left_gaze_point-X'] = x\n",
    "    dataset['left_gaze_point-Y'] = y"
   ]
  },
  {
   "cell_type": "code",
   "execution_count": null,
   "metadata": {},
   "outputs": [],
   "source": [
    "dataset"
   ]
  },
  {
   "cell_type": "code",
   "execution_count": null,
   "metadata": {},
   "outputs": [],
   "source": []
  }
 ],
 "metadata": {
  "kernelspec": {
   "display_name": ".venv",
   "language": "python",
   "name": "python3"
  },
  "language_info": {
   "codemirror_mode": {
    "name": "ipython",
    "version": 3
   },
   "file_extension": ".py",
   "mimetype": "text/x-python",
   "name": "python",
   "nbconvert_exporter": "python",
   "pygments_lexer": "ipython3",
   "version": "3.10.13"
  }
 },
 "nbformat": 4,
 "nbformat_minor": 2
}
